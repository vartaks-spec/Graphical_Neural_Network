{
 "cells": [
  {
   "cell_type": "code",
   "execution_count": 2,
   "metadata": {},
   "outputs": [],
   "source": [
    "import numpy as np\n",
    "import matplotlib.pyplot as plt \n",
    "import tensorflow as tf\n",
    "\n",
    "from tensorflow import keras "
   ]
  },
  {
   "cell_type": "code",
   "execution_count": 3,
   "metadata": {},
   "outputs": [
    {
     "name": "stdout",
     "output_type": "stream",
     "text": [
      "shape of data: (6732, 6)\n",
      "datatype of data: float64\n",
      "max_time:  524162.0\n",
      "shape of matrix: (12, 524162)\n",
      "datatype of matrix: float64\n",
      "Mean Probablity of connection: [0.5469435  0.10602829 0.12768953 0.1780461  0.68497907 0.11577909\n",
      " 0.57410304 0.15816675 0.16867495 0.83742622 0.85603497 0.16868831]\n"
     ]
    }
   ],
   "source": [
    "data=np.loadtxt(\"/home/sahil/Desktop/UGP(JUN)/Exp2/contacts.Exp2.dat\")\n",
    "print(\"shape of data:\",data.shape)\n",
    "\n",
    "print(\"datatype of data:\",data.dtype)\n",
    "\n",
    "max_time=np.amax(data,axis=0)\n",
    "print(\"max_time: \",max_time[3])\n",
    "\n",
    "matrix=np.zeros((12,int(max_time[3])))\n",
    "\n",
    "print(\"shape of matrix:\",matrix.shape)\n",
    "\n",
    "print(\"datatype of matrix:\",matrix.dtype)\n",
    "\n",
    "for x in range(12):\n",
    "    for n in range(data.shape[0]):\n",
    "        if data[n,0]==x+1:\n",
    "            for a in range(int(data[n,2]),int(data[n,3])):\n",
    "                matrix[x,a]=1\n",
    "average=np.average(matrix,axis=1)\n",
    "print(\"Mean Probablity of connection:\",average)"
   ]
  },
  {
   "cell_type": "code",
   "execution_count": 5,
   "metadata": {},
   "outputs": [
    {
     "name": "stdout",
     "output_type": "stream",
     "text": [
      "Which node would you like to check? 11\n",
      "Estimated coefficients:\n",
      "b_0 = 0.3653207019106046  \\ \n",
      "b_1 = -7.502748034425186e-07\n"
     ]
    },
    {
     "data": {
      "image/png": "[encoded data removed]",
      "text/plain": [
       "<Figure size 432x288 with 1 Axes>"
      ]
     },
     "metadata": {
      "needs_background": "light"
     },
     "output_type": "display_data"
    }
   ],
   "source": [
    "def estimate_coef(x, y): \n",
    "    # number of observations/points \n",
    "    n = np.size(x) \n",
    "  \n",
    "    # mean of x and y vector \n",
    "    m_x, m_y = np.mean(x), np.mean(y) \n",
    "  \n",
    "    # calculating cross-deviation and deviation about x \n",
    "    SS_xy = np.sum(y*x) - n*m_y*m_x \n",
    "    SS_xx = np.sum(x*x) - n*m_x*m_x \n",
    "  \n",
    "    # calculating regression coefficients \n",
    "    b_1 = SS_xy / SS_xx \n",
    "    b_0 = m_y - b_1*m_x \n",
    "  \n",
    "    return(b_0, b_1) \n",
    "  \n",
    "def plot_regression_line(x, y, b): \n",
    "    # plotting the actual points as scatter plot \n",
    "    #plt.scatter(x, y, color = \"m\", \n",
    "    #           marker = \"o\", s = 30) \n",
    "  \n",
    "    # predicted response vector \n",
    "    y_pred = b[0] + b[1]*x \n",
    "    \n",
    "    for n in range(int(max_time[3])):\n",
    "        if (y_pred[n]<0):\n",
    "            y_pred[n]=0\n",
    "        if (y_pred[n]>1):\n",
    "            y_pred[n]=1\n",
    "  \n",
    "    # plotting the regression line \n",
    "    plt.plot(x, y_pred, color = \"g\") \n",
    "  \n",
    "    # putting labels \n",
    "    plt.xlabel('x') \n",
    "    plt.ylabel('y') \n",
    "  \n",
    "    # function to show plot \n",
    "    plt.show()\n",
    "a=input(\"Which node would you like to check? \")\n",
    "x=np.arange(0,int(max_time[3]))\n",
    "y=matrix[int(a),]\n",
    "# estimating coefficients \n",
    "b = estimate_coef(x, y) \n",
    "print(\"Estimated coefficients:\\nb_0 = {}  \\ \\nb_1 = {}\".format(b[0], b[1])) \n",
    "  \n",
    "    # plotting regression line \n",
    "plot_regression_line(x, y, b) "
   ]
  },
  {
   "cell_type": "code",
   "execution_count": 8,
   "metadata": {},
   "outputs": [
    {
     "name": "stdout",
     "output_type": "stream",
     "text": [
      "shape of new data: (4229, 6)\n",
      "455845.0\n",
      "first node 1\n",
      "corresponding node 11\n",
      "269039.0\n",
      "[[ 1. 11.  0.  0.  0.]\n",
      " [ 1. 11.  0.  0.  0.]\n",
      " [ 1. 11.  0.  0.  0.]\n",
      " ...\n",
      " [ 1. 11.  0.  0.  0.]\n",
      " [ 1. 11.  0.  0.  0.]\n",
      " [ 1. 11.  0.  0.  0.]]\n"
     ]
    }
   ],
   "source": [
    "# only counting the internal nodes\n",
    "data_internal = data[np.logical_not(data[:,1]>12)]\n",
    "print(\"shape of new data:\",data_internal.shape)\n",
    "max_time=np.amax(data_internal,axis=0)[3]\n",
    "print(max_time)\n",
    "#make data suitable for neutral network\n",
    "a=input(\"first node \")\n",
    "b=input(\"corresponding node \")\n",
    "dataset_temp=data_internal[np.logical_not(np.logical_or(data_internal[:,0] !=int(a), data_internal[:,1] != int(b)))]\n",
    "max_time=np.amax(dataset_temp,axis=0)[3]\n",
    "print(max_time)\n",
    "#shift arrays' columns as we need our inputs on left side\n",
    "i=[0,1,4,5,2,3]\n",
    "dataset_temp=dataset_temp[:,i]\n",
    "#convert into probablity matrix suitable for model\n",
    "dataset=np.zeros((int(max_time),5))\n",
    "for r in range(int(max_time)):\n",
    "    for m in range(dataset_temp.shape[0]):\n",
    "        dataset[r,0]=dataset_temp[m,0]\n",
    "        dataset[r,1]=dataset_temp[m,1]\n",
    "        if dataset_temp[m,4] == r:\n",
    "            for n in range(int(dataset_temp[m,4]) , int(dataset_temp[m,5])):\n",
    "                dataset[n,2]=dataset_temp[m,2]\n",
    "                dataset[n,3]=dataset_temp[m,3]\n",
    "                dataset[n,4]=1\n",
    "\n",
    "\n",
    "print(dataset)"
   ]
  },
  {
   "cell_type": "code",
   "execution_count": 9,
   "metadata": {},
   "outputs": [
    {
     "name": "stderr",
     "output_type": "stream",
     "text": [
      "Using TensorFlow backend.\n"
     ]
    }
   ],
   "source": [
    "# neutal-network\n",
    "\n",
    "import pandas\n",
    "from keras.models import Sequential\n",
    "from keras.layers import Dense\n",
    "from keras.wrappers.scikit_learn import KerasRegressor\n",
    "from sklearn.model_selection import cross_val_score\n",
    "from sklearn.model_selection import KFold\n",
    "from sklearn.preprocessing import StandardScaler\n",
    "from sklearn.pipeline import Pipeline\n",
    "\n",
    "# load dataset\n",
    "#dataframe = pandas.read_csv(\"/home/sahil/Desktop/UGP(JUN)/Exp1/contacts.Exp1.dat\", delim_whitespace=True, header=None)\n",
    "#dataset = dataframe.values\n",
    "# split into input (X) and output (Y) variables\n",
    "X = dataset[0:20000,0:4]\n",
    "Y = dataset[0:20000,4]"
   ]
  },
  {
   "cell_type": "code",
   "execution_count": 10,
   "metadata": {},
   "outputs": [
    {
     "name": "stdout",
     "output_type": "stream",
     "text": [
      "[1.0, 11.0, 0.0, 0.0] => 0 (expected 0)\n",
      "[1.0, 11.0, 0.0, 0.0] => 0 (expected 0)\n",
      "[1.0, 11.0, 0.0, 0.0] => 0 (expected 0)\n",
      "[1.0, 11.0, 0.0, 0.0] => 0 (expected 0)\n",
      "[1.0, 11.0, 0.0, 0.0] => 0 (expected 0)\n",
      "[1.0, 11.0, 0.0, 0.0] => 0 (expected 0)\n",
      "[1.0, 11.0, 0.0, 0.0] => 0 (expected 0)\n",
      "[1.0, 11.0, 0.0, 0.0] => 0 (expected 0)\n",
      "[1.0, 11.0, 0.0, 0.0] => 0 (expected 0)\n",
      "[1.0, 11.0, 0.0, 0.0] => 0 (expected 0)\n"
     ]
    }
   ],
   "source": [
    "model = Sequential()\n",
    "model.add(Dense(12, input_dim=4, activation='relu'))\n",
    "model.add(Dense(8, activation='relu'))\n",
    "model.add(Dense(1, activation='sigmoid'))\n",
    "# compile the keras model\n",
    "model.compile(loss='binary_crossentropy', optimizer='adam', metrics=['accuracy'])\n",
    "# fit the keras model on the dataset\n",
    "model.fit(X, Y, epochs=150, batch_size=10, verbose=0)\n",
    "# make class predictions with the model\n",
    "predictions = model.predict_classes(X)\n",
    "# summarize some cases\n",
    "for i in range(18020,18030):\n",
    "\tprint('%s => %d (expected %d)' % (X[i].tolist(), predictions[i], Y[i]))"
   ]
  },
  {
   "cell_type": "code",
   "execution_count": null,
   "metadata": {},
   "outputs": [],
   "source": []
  },
  {
   "cell_type": "markdown",
   "metadata": {},
   "source": []
  }
 ],
 "metadata": {
  "kernelspec": {
   "display_name": "Python 3",
   "language": "python",
   "name": "python3"
  },
  "language_info": {
   "codemirror_mode": {
    "name": "ipython",
    "version": 3
   },
   "file_extension": ".py",
   "mimetype": "text/x-python",
   "name": "python",
   "nbconvert_exporter": "python",
   "pygments_lexer": "ipython3",
   "version": "3.8.2"
  }
 },
 "nbformat": 4,
 "nbformat_minor": 4
}
